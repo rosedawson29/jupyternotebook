{
 "cells": [
  {
   "cell_type": "code",
   "execution_count": 3,
   "metadata": {},
   "outputs": [
    {
     "name": "stdout",
     "output_type": "stream",
     "text": [
      "corr_1_2: 0.5597078993054279\n",
      "corr_1_3: 0.23464323667481748\n",
      "corr_1_4: 0.30444357186836407\n"
     ]
    }
   ],
   "source": [
    "import numpy as np\n",
    "from PIL import Image\n",
    "from io import BytesIO\n",
    "import requests\n",
    "import math\n",
    "\n",
    "def dot(v, w):\n",
    "    \"\"\"v_1 * w_1 + ... + v_n * w_n\"\"\"\n",
    "    return sum(v_i * w_i\n",
    "            for v_i, w_i in zip(v, w))\n",
    "\n",
    "def sum_of_squares(v):\n",
    "    \"\"\"v_1 * v_1 + ... + v_n * v_n\"\"\"\n",
    "    return dot(v, v)\n",
    "\n",
    "def mean(x):\n",
    "    return sum(x) / len(x)\n",
    "\n",
    "def de_mean(x):\n",
    "    \"\"\"translate x by subtracting its mean (so the result has mean 0)\"\"\"\n",
    "    x_bar = mean(x)\n",
    "    return [x_i - x_bar for x_i in x]\n",
    "\n",
    "def variance(x):\n",
    "    \"\"\"assumes x has at least two elements\"\"\"\n",
    "    n = len(x)\n",
    "    deviations = de_mean(x)\n",
    "    return sum_of_squares(deviations) / (n - 1)\n",
    "\n",
    "def standard_deviation(x):\n",
    "    return math.sqrt(variance(x))\n",
    "\n",
    "def covariance(x, y):\n",
    "    n = len(x)\n",
    "    return dot(de_mean(x), de_mean(y)) / (n - 1)\n",
    "\n",
    "def correlation(x, y):\n",
    "    stdev_x = standard_deviation(x)\n",
    "    stdev_y = standard_deviation(y)\n",
    "    if stdev_x > 0 and stdev_y > 0:\n",
    "        return covariance(x, y) / stdev_x / stdev_y\n",
    "    else:\n",
    "        return 0 # if no variation, correlation is zero\n",
    "# load ảnh và chuyển về kiểu list\n",
    "req1 = requests.get('https://www.dropbox.com/s/vfe090qo24t3v46/img1.png?raw=1')\n",
    "req2 = requests.get('https://www.dropbox.com/s/vtz8ik7mb1e1is7/img2.png?raw=1')\n",
    "req3 = requests.get('https://www.dropbox.com/s/auxezlf6ijoejwo/img3.png?raw=1')\n",
    "req4 = requests.get('https://www.dropbox.com/s/w5oc29l57f77arp/img4.png?raw=1')\n",
    "\n",
    "image1 = Image.open(BytesIO(req1.content))\n",
    "image2 = Image.open(BytesIO(req2.content))\n",
    "image3 = Image.open(BytesIO(req3.content))\n",
    "image4 = Image.open(BytesIO(req4.content))\n",
    "image1_list = np.asarray(image1).flatten().tolist()\n",
    "image2_list = np.asarray(image2).flatten().tolist()\n",
    "image3_list = np.asarray(image3).flatten().tolist()\n",
    "image4_list = np.asarray(image4).flatten().tolist()\n",
    "\n",
    "corr_1_2 = correlation(image1_list, image2_list)\n",
    "corr_1_3 = correlation(image1_list, image3_list)\n",
    "corr_1_4 = correlation(image1_list, image4_list)\n",
    "\n",
    "print('corr_1_2:', corr_1_2)\n",
    "print('corr_1_3:', corr_1_3)\n",
    "print('corr_1_4:', corr_1_4)"
   ]
  },
  {
   "cell_type": "code",
   "execution_count": 2,
   "metadata": {},
   "outputs": [
    {
     "name": "stdout",
     "output_type": "stream",
     "text": [
      "Collecting Pillow\n",
      "  Downloading Pillow-7.0.0-cp37-cp37m-win32.whl (1.8 MB)\n",
      "Installing collected packages: Pillow\n",
      "Successfully installed Pillow-7.0.0\n"
     ]
    }
   ],
   "source": [
    "!pip install Pillow"
   ]
  },
  {
   "cell_type": "code",
   "execution_count": null,
   "metadata": {},
   "outputs": [],
   "source": []
  }
 ],
 "metadata": {
  "kernelspec": {
   "display_name": "Python 3",
   "language": "python",
   "name": "python3"
  },
  "language_info": {
   "codemirror_mode": {
    "name": "ipython",
    "version": 3
   },
   "file_extension": ".py",
   "mimetype": "text/x-python",
   "name": "python",
   "nbconvert_exporter": "python",
   "pygments_lexer": "ipython3",
   "version": "3.7.4"
  }
 },
 "nbformat": 4,
 "nbformat_minor": 2
}
